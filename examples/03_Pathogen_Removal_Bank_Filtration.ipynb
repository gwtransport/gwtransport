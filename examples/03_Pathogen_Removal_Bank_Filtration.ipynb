{
 "cells": [
  {
   "cell_type": "markdown",
   "id": "title",
   "metadata": {},
   "source": [
    "# Pathogen Removal in Bank Filtration Systems\n",
    "\n",
    "## Learning Objectives\n",
    "- Understand log-removal concepts for pathogen treatment assessment\n",
    "- Calculate pathogen removal efficiency in groundwater treatment systems\n",
    "- Learn how heterogeneous systems affect overall performance\n",
    "- Apply residence time analysis to water treatment design\n",
    "- Analyze seasonal variations in treatment performance"
   ]
  },
  {
   "cell_type": "markdown",
   "id": "overview",
   "metadata": {},
   "source": "## Overview\n\nThis notebook demonstrates how to calculate pathogen removal efficiency in groundwater treatment systems using log-removal analysis. Understanding pathogen removal is crucial for safe drinking water production from riverbank filtration and managed aquifer recharge systems.\n\n### Real-World Context\nBank filtration is widely used in Europe for drinking water treatment. River water infiltrates through riverbank sediments, where pathogens are naturally filtered out through physical straining and biological decay. The longer water stays underground, the more pathogens are removed.\n\n### Applications\n- Drinking water treatment design\n- Bank filtration system optimization\n- Risk assessment for water supplies\n- Treatment performance evaluation\n- Treatment performance monitoring\n\n### Key Concepts\n- **Log-removal**: Logarithmic scale for pathogen reduction\n- **Residence time dependency**: Longer contact time = better removal\n- **Heterogeneous systems**: Multiple flow paths with different performance\n- **Treatment efficiency**: Quantifying pathogen removal performance"
  },
  {
   "cell_type": "markdown",
   "id": "theory",
   "metadata": {},
   "source": [
    "## Theoretical Background\n",
    "\n",
    "### Log-Removal Fundamentals\n",
    "\n",
    "Log-removal quantifies pathogen reduction on a logarithmic scale:\n",
    "\n",
    "$$\\text{Log-removal} = \\log_{10}\\left(\\frac{C_{in}}{C_{out}}\\right)$$\n",
    "\n",
    "Where:\n",
    "- $C_{in}$: Input pathogen concentration\n",
    "- $C_{out}$: Output pathogen concentration\n",
    "\n",
    "**Practical Interpretation**:\n",
    "- 1 log10 = 90% removal (1 in 10 pathogens remain)\n",
    "- 2 log10 = 99% removal (1 in 100 pathogens remain)  \n",
    "- 3 log10 = 99.9% removal (1 in 1000 pathogens remain)\n",
    "\n",
    "### Residence Time Relationship\n",
    "\n",
    "Log-removal depends on residence time through first-order decay:\n",
    "\n",
    "$$\\text{Log-removal} = k \\cdot \\log_{10}(t_{residence})$$\n",
    "\n",
    "Where:\n",
    "- $k$: Removal rate constant [log10/log10(day)] - depends on pathogen type and aquifer properties\n",
    "- $t_{residence}$: Residence time [days]\n",
    "\n",
    "### Heterogeneous Systems\n",
    "\n",
    "For systems with multiple flow paths, the overall log-removal is weighted toward lower values (shorter residence times), providing natural safety margins in design."
   ]
  },
  {
   "cell_type": "code",
   "execution_count": 1,
   "id": "imports",
   "metadata": {},
   "outputs": [
    {
     "name": "stdout",
     "output_type": "stream",
     "text": [
      "Libraries imported successfully\n"
     ]
    }
   ],
   "source": [
    "from pathlib import Path\n",
    "\n",
    "import matplotlib.pyplot as plt\n",
    "import numpy as np\n",
    "\n",
    "from gwtransport import gamma as gamma_utils\n",
    "from gwtransport.examples import generate_example_data\n",
    "from gwtransport.logremoval import (\n",
    "    gamma_find_flow_for_target_mean,\n",
    "    gamma_mean,\n",
    "    parallel_mean,\n",
    "    residence_time_to_log_removal,\n",
    ")\n",
    "from gwtransport.residence_time import residence_time\n",
    "\n",
    "# Set random seed for reproducibility\n",
    "np.random.seed(42)\n",
    "plt.style.use(\"seaborn-v0_8-whitegrid\")\n",
    "\n",
    "print(\"Libraries imported successfully\")"
   ]
  },
  {
   "cell_type": "markdown",
   "id": "basic_concepts",
   "metadata": {},
   "source": [
    "## 1. Understanding Basic Log-Removal\n",
    "\n",
    "We start with a simple example to illustrate the fundamental relationship between residence time and pathogen removal."
   ]
  },
  {
   "cell_type": "code",
   "execution_count": null,
   "id": "basic_example",
   "metadata": {},
   "outputs": [],
   "source": "print(\"=== Basic Log-Removal Calculation ===\")\nprint(\"Simulating a small bank filtration system...\\n\")\n\n# Define aquifer characteristics (small riverbank aquifer)\nmean_pore_volume = 1000.0  # m³ (total water-filled space)\nstd_pore_volume = 300.0  # m³ (variability in pore volume)\nflow_rate = 50.0  # m³/day (water extraction rate)\nlog_removal_rate = 3.5  # log10 removal per log10(day) (typical for bacteria)\n\n# Convert aquifer properties to gamma distribution parameters\nalpha, beta = gamma_utils.mean_std_to_alpha_beta(mean=mean_pore_volume, std=std_pore_volume)\n\n# Calculate residence time statistics\nrt_alpha = alpha\nrt_beta = beta / flow_rate\n\n# Calculate pathogen log-removal\nmean_log_removal = gamma_mean(rt_alpha=rt_alpha, rt_beta=rt_beta, log_removal_rate=log_removal_rate)\nremoval_efficiency = (1 - 10 ** (-mean_log_removal)) * 100\n\n# Display results\nmean_residence_time = mean_pore_volume / flow_rate\n\nprint(\"Aquifer Setup:\")\nprint(f\"  • Pore volume: {mean_pore_volume:.0f} ± {std_pore_volume:.0f} m³\")\nprint(f\"  • Flow rate: {flow_rate} m³/day\")\nprint(f\"  • Mean residence time: {mean_residence_time:.1f} days\")\nprint(f\"  • Removal rate constant: {log_removal_rate} log10/log10(day)\")\n\nprint(\"\\nPathogen Removal Results:\")\nprint(f\"  • Log-removal: {mean_log_removal:.2f} log10\")\nprint(f\"  • Removal efficiency: {removal_efficiency:.1f}%\")\nprint(f\"  • Remaining pathogens: {100 - removal_efficiency:.1f}%\")"
  },
  {
   "cell_type": "markdown",
   "id": "parallel_systems",
   "metadata": {},
   "source": [
    "## 2. Heterogeneous System Performance\n",
    "\n",
    "Bank filtration systems have multiple flow paths with different residence times. The overall log-removal is weighted toward lower values (shorter residence times) and provides natural safety margins."
   ]
  },
  {
   "cell_type": "code",
   "execution_count": 3,
   "id": "parallel_demonstration",
   "metadata": {},
   "outputs": [
    {
     "name": "stdout",
     "output_type": "stream",
     "text": [
      "=== Heterogeneous System Analysis ===\n",
      "Multiple flow paths with different residence times\n",
      "\n",
      "Flow Path Performance:\n",
      "  Path 1: 0.5 log10 → 68.4% removal\n",
      "  Path 2: 1.0 log10 → 90.0% removal\n",
      "  Path 3: 1.5 log10 → 96.8% removal\n",
      "\n",
      "Overall System Performance:\n",
      "  Combined log-removal: 0.83 log10 → 85.1% removal\n",
      "\n",
      "💡 Note: Overall performance is weighted toward the worst-performing paths\n",
      "   (shortest residence times), ensuring conservative design.\n"
     ]
    }
   ],
   "source": [
    "print(\"=== Heterogeneous System Analysis ===\")\n",
    "print(\"Multiple flow paths with different residence times\\n\")\n",
    "\n",
    "# Three flow paths with different log-removal efficiencies\n",
    "unit_removals = np.array([0.5, 1.0, 1.5])  # log10 values for each path\n",
    "\n",
    "# Correct method: parallel_mean() accounts for flow-weighted averaging\n",
    "combined_removal = parallel_mean(log_removals=unit_removals)\n",
    "\n",
    "print(\"Flow Path Performance:\")\n",
    "for i, removal in enumerate(unit_removals):\n",
    "    efficiency = (1 - 10 ** (-removal)) * 100\n",
    "    print(f\"  Path {i + 1}: {removal:.1f} log10 → {efficiency:.1f}% removal\")\n",
    "\n",
    "print(\"\\nOverall System Performance:\")\n",
    "combined_efficiency = (1 - 10 ** (-combined_removal)) * 100\n",
    "print(f\"  Combined log-removal: {combined_removal:.2f} log10 → {combined_efficiency:.1f}% removal\")\n",
    "\n",
    "print(\"\\n💡 Note: Overall performance is weighted toward the worst-performing paths\")\n",
    "print(\"   (shortest residence times), ensuring conservative design.\")"
   ]
  },
  {
   "cell_type": "markdown",
   "id": "design_application",
   "metadata": {},
   "source": "## 3. Design Application - Achieving Target Removal Efficiency\n\nWater treatment facilities aim to achieve specific pathogen removal targets. We demonstrate how to design systems that achieve desired removal efficiency."
  },
  {
   "cell_type": "code",
   "execution_count": null,
   "id": "design_optimization",
   "metadata": {},
   "outputs": [],
   "source": "print(\"=== Design Application ===\")\nprint(\"Design challenge: Achieve target pathogen removal for safe drinking water\\n\")\n\n# Target removal level for pathogen safety\ntarget_removal = 6.0\ntarget_efficiency = (1 - 10 ** (-target_removal)) * 100\n\nprint(f\"Target: {target_removal} log10 removal ({target_efficiency:.0f}% efficiency)\")\n\n# Find the maximum flow rate that still achieves our target\nrequired_flow = gamma_find_flow_for_target_mean(\n    target_mean=target_removal,\n    apv_alpha=alpha,\n    apv_beta=beta,\n    log_removal_rate=log_removal_rate,\n)\n\nrequired_residence_time = mean_pore_volume / required_flow\n\nprint(\"\\nDesign Solution:\")\nprint(f\"  • Maximum flow rate: {required_flow:.1f} m³/day\")\nprint(f\"  • Required residence time: {required_residence_time:.1f} days\")\nprint(f\"  • Daily water production: {required_flow:.1f} m³ = {required_flow * 1000:.0f} liters\")\n\n# Compare with original flow rate\nflow_reduction = (1 - required_flow / flow_rate) * 100\nprint(\"\\nComparison with original design:\")\nprint(f\"  • Flow reduction needed: {flow_reduction:.1f}%\")\nprint(f\"  • Production capacity: {required_flow / flow_rate * 100:.1f}% of original\")\n\nprint(\"\\n💡 Engineering Insight: Higher flow rates mean shorter residence times,\")\nprint(\"   which reduces pathogen removal. There's always a trade-off between\")\nprint(\"   water production capacity and treatment effectiveness.\")"
  },
  {
   "cell_type": "markdown",
   "id": "visualization",
   "metadata": {},
   "source": [
    "## 4. Real-World Scenario - Seasonal Variations\n",
    "\n",
    "In reality, river flows change seasonally, affecting bank filtration performance. We simulate a multi-year system to see how log-removal varies with changing conditions."
   ]
  },
  {
   "cell_type": "code",
   "execution_count": 5,
   "id": "data_generation",
   "metadata": {},
   "outputs": [
    {
     "name": "stdout",
     "output_type": "stream",
     "text": [
      "=== Seasonal Flow Data Generation ===\n",
      "Dataset: 1978 days from 2020-01-01 to 2025-05-31\n",
      "Flow range: 8.1 - 170.0 m³/day\n",
      "Aquifer: 8000 ± 400 m³ pore volume\n"
     ]
    }
   ],
   "source": [
    "print(\"=== Seasonal Flow Data Generation ===\")\n",
    "\n",
    "# Generate realistic flow data with seasonal patterns\n",
    "df, tedges = generate_example_data(\n",
    "    date_start=\"2020-01-01\",\n",
    "    date_end=\"2025-05-31\",\n",
    "    flow_mean=120.0,  # Base flow rate [m³/day]\n",
    "    flow_amplitude=40.0,  # Seasonal flow variation [m³/day]\n",
    "    flow_noise=5.0,  # Random daily fluctuations [m³/day]\n",
    "    temp_infiltration_method=\"soil_temperature\",  # Use real soil temperature data\n",
    "    aquifer_pore_volume_gamma_mean=8000.0,  # True mean pore volume [m³]\n",
    "    aquifer_pore_volume_gamma_std=400.0,  # True standard deviation [m³]\n",
    "    retardation_factor=2.0,  # Thermal retardation factor [-]\n",
    ")\n",
    "\n",
    "# Set up aquifer characteristics for this larger system\n",
    "bins = gamma_utils.bins(\n",
    "    mean=df.attrs[\"aquifer_pore_volume_gamma_mean\"], std=df.attrs[\"aquifer_pore_volume_gamma_std\"], n_bins=1000\n",
    ")  # High resolution\n",
    "\n",
    "print(f\"Dataset: {len(df)} days from {df.index[0].date()} to {df.index[-1].date()}\")\n",
    "print(f\"Flow range: {df['flow'].min():.1f} - {df['flow'].max():.1f} m³/day\")\n",
    "print(\n",
    "    f\"Aquifer: {df.attrs['aquifer_pore_volume_gamma_mean']:.0f} ± {df.attrs['aquifer_pore_volume_gamma_std']:.0f} m³ pore volume\"\n",
    ")"
   ]
  },
  {
   "cell_type": "code",
   "execution_count": 6,
   "id": "log_removal_calculation",
   "metadata": {},
   "outputs": [
    {
     "name": "stdout",
     "output_type": "stream",
     "text": [
      "\n",
      "Computing pathogen removal over time...\n",
      "Time series calculation completed\n",
      "Log-removal range: 5.94 - 7.17 log10\n",
      "Efficiency range: 100.0% - 100.0%\n"
     ]
    }
   ],
   "source": [
    "print(\"\\nComputing pathogen removal over time...\")\n",
    "\n",
    "# Calculate residence time distribution for water flow\n",
    "rt_infiltration_to_extraction_water = residence_time(\n",
    "    flow=df.flow,\n",
    "    flow_tedges=tedges,\n",
    "    aquifer_pore_volume=bins[\"expected_values\"],\n",
    "    retardation_factor=1.0,  # Water (conservative tracer)\n",
    "    direction=\"infiltration_to_extraction\",\n",
    ")\n",
    "\n",
    "# Compute log-removal for each flow path and time point\n",
    "log_removal_array = residence_time_to_log_removal(\n",
    "    residence_times=rt_infiltration_to_extraction_water,\n",
    "    log_removal_rate=log_removal_rate,\n",
    ")\n",
    "\n",
    "# Average across all flow paths (using correct parallel averaging)\n",
    "df[\"log_removal\"] = parallel_mean(log_removals=log_removal_array, axis=0)\n",
    "df[\"removal_efficiency\"] = (1 - 10 ** (-df[\"log_removal\"])) * 100\n",
    "\n",
    "print(\"Time series calculation completed\")\n",
    "print(f\"Log-removal range: {df['log_removal'].min():.2f} - {df['log_removal'].max():.2f} log10\")\n",
    "print(f\"Efficiency range: {df['removal_efficiency'].min():.1f}% - {df['removal_efficiency'].max():.1f}%\")"
   ]
  },
  {
   "cell_type": "markdown",
   "id": "performance_viz",
   "metadata": {},
   "source": [
    "## 5. Performance Visualization"
   ]
  },
  {
   "cell_type": "code",
   "execution_count": null,
   "id": "time_series_plot",
   "metadata": {},
   "outputs": [],
   "source": "# Create informative time series plot\nfig, (ax1, ax2) = plt.subplots(2, 1, figsize=(14, 10), sharex=True)\n\n# Plot 1: Flow rate over time\nax1.plot(df.index, df.flow, color=\"steelblue\", linewidth=1.2, alpha=0.8)\nax1.set_ylabel(\"Flow Rate (m³/day)\")\nax1.set_title(\"Bank Filtration System Performance Over Time\", fontsize=14, fontweight=\"bold\")\nax1.grid(True, alpha=0.3)\nax1.axhline(\n    y=df.flow.mean(),\n    color=\"red\",\n    linestyle=\"--\",\n    alpha=0.6,\n    label=f\"Mean flow: {df.flow.mean():.0f} m³/day\",\n)\nax1.legend()\n\n# Plot 2: Log-removal over time\nax2.plot(df.index, df.log_removal, color=\"forestgreen\", linewidth=1.2, alpha=0.8)\nax2.set_ylabel(\"Log-removal (log10)\")\nax2.set_xlabel(\"Date\")\nax2.grid(True, alpha=0.3)\n\n# Add target removal line\nax2.axhline(y=target_removal, color=\"red\", linestyle=\"--\", alpha=0.6, label=f\"Target: {target_removal} log10 removal\")\nax2.legend()\n\n# Add seasonal annotations\nax2.text(\n    0.02,\n    0.95,\n    \"Higher flows → Lower removal\",\n    transform=ax2.transAxes,\n    fontsize=11,\n    bbox={\"boxstyle\": \"round,pad=0.3\", \"facecolor\": \"yellow\", \"alpha\": 0.7},\n)\n\nplt.tight_layout()\n\n# Save the time series plot\nout_path = Path(\"03_log_removal_time_series.png\")\nplt.savefig(out_path, dpi=300, bbox_inches=\"tight\")\nplt.show()\n\nprint(f\"📈 Time series plot saved to: {out_path}\")"
  },
  {
   "cell_type": "markdown",
   "id": "performance_summary",
   "metadata": {},
   "source": [
    "## 6. Performance Summary and Analysis"
   ]
  },
  {
   "cell_type": "code",
   "execution_count": null,
   "id": "summary_stats",
   "metadata": {},
   "outputs": [],
   "source": "# Calculate and display summary statistics\nmin_removal = df[\"log_removal\"].min()\nmax_removal = df[\"log_removal\"].max()\nmean_removal = df[\"log_removal\"].mean()\nmin_efficiency = df[\"removal_efficiency\"].min()\nmax_efficiency = df[\"removal_efficiency\"].max()\nstd_removal = df[\"log_removal\"].std()\n\n# Target removal analysis\ntarget_removal_threshold = 6.0  # log10 removal target\n\ntarget_achieved_days = (df[\"log_removal\"] >= target_removal_threshold).sum()\ntarget_achieved_percent = target_achieved_days / len(df) * 100\n\n# Flow-removal correlation\nflow_removal_corr = np.corrcoef(df[\"flow\"], df[\"log_removal\"])[0, 1]\n\nprint(\"📊 Performance Summary (6-year analysis):\")\nprint(\"=\" * 50)\nprint(\"Log-removal statistics:\")\nprint(f\"  • Range: {min_removal:.2f} - {max_removal:.2f} log10\")\nprint(f\"  • Mean: {mean_removal:.2f} ± {std_removal:.2f} log10\")\nprint(f\"  • Efficiency range: {min_efficiency:.1f}% - {max_efficiency:.1f}%\")\n\nprint(f\"\\nTarget Achievement (≥{target_removal_threshold} log10):\")\nprint(f\"  • Days achieving target: {target_achieved_days} / {len(df)} ({target_achieved_percent:.1f}%)\")\n\nprint(\"\\n🔍 Key Observation: Higher flows → shorter residence times → less pathogen removal\")\nprint(\"   This seasonal variation is critical for water treatment plant design!\")"
  },
  {
   "cell_type": "markdown",
   "id": "discussion",
   "metadata": {},
   "source": "## Results & Discussion\n\n### Seasonal Performance Variations\nThe time series analysis reveals significant seasonal variations in pathogen removal efficiency:\n- **High flow periods**: Reduced residence times lead to lower log-removal\n- **Low flow periods**: Extended residence times improve pathogen removal\n- **Design implications**: Systems must be designed for worst-case (high flow) conditions\n\n### Heterogeneous System Behavior\nThe analysis demonstrates key characteristics of heterogeneous systems:\n- **Weighted averaging**: Overall performance is weighted toward worst-performing flow paths\n- **Conservative design**: Shortest residence times control overall system performance\n- **Safety margins**: This natural conservatism provides built-in safety factors\n\n### Engineering Design Insights\n\n**Flow Rate Optimization**:\n- Trade-off between water production and treatment efficiency\n- Maximum safe flow rates depend on target removal requirements\n- Consider seasonal flow variations in design\n\n**Risk Management**:\n- Monitor performance during high-flow periods\n- Consider backup treatment during low-performance periods\n- Design for high achievement of target removal levels\n\n**System Optimization**:\n- Identify and mitigate fast flow paths\n- Consider engineered barriers to increase residence times\n- Implement real-time monitoring for adaptive management"
  },
  {
   "cell_type": "markdown",
   "id": "key_takeaways",
   "metadata": {},
   "source": "## Key Takeaways\n\n✅ **Log-Removal Fundamentals**: Logarithmic scale quantifies pathogen reduction efficiency\n\n✅ **Residence Time Dependency**: Longer underground residence = better pathogen removal\n\n✅ **Flow Rate Trade-off**: Higher pumping rates reduce treatment efficiency\n\n✅ **Heterogeneous Systems**: Overall performance weighted toward worst-performing flow paths\n\n✅ **Seasonal Variations**: Flow changes cause significant performance variations\n\n✅ **Safety Margins**: Design for worst-case conditions and high target achievement rates"
  },
  {
   "cell_type": "markdown",
   "id": "engineering_summary",
   "metadata": {},
   "source": "## Engineering Design Summary\n\n### 🎓 Essential Principles for Bank Filtration Design\n\n**1. Fundamental Relationship**:\n```\nLog-removal = k × log10(residence_time)\n```\n→ Longer underground residence = better pathogen removal\n\n**2. Flow Rate Trade-off**:\nHigher pumping rates → shorter residence times → less removal  \n→ Engineers must balance water demand with treatment efficiency\n\n**3. Heterogeneous System Performance**:\nOverall log-removal is weighted toward lower values (shorter residence times)  \n→ Provides natural safety margins in design\n\n**4. Design Tools**:\nUse `gamma_find_flow_for_target_mean()` to find maximum safe flow rates\n→ Essential for achieving target pathogen removal\n\n**5. Seasonal Considerations**:\nDesign for worst-case (high flow) conditions\n→ Ensure year-round achievement of target removal levels"
  }
 ],
 "metadata": {
  "kernelspec": {
   "display_name": ".venv",
   "language": "python",
   "name": "python3"
  },
  "language_info": {
   "codemirror_mode": {
    "name": "ipython",
    "version": 3
   },
   "file_extension": ".py",
   "mimetype": "text/x-python",
   "name": "python",
   "nbconvert_exporter": "python",
   "pygments_lexer": "ipython3",
   "version": "3.13.3"
  }
 },
 "nbformat": 4,
 "nbformat_minor": 5
}